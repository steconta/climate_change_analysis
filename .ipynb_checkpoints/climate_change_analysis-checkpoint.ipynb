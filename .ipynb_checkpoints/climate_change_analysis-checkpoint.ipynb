{
 "cells": [
  {
   "cell_type": "code",
   "execution_count": 656,
   "id": "9e097432",
   "metadata": {},
   "outputs": [],
   "source": [
    "#How the economic growth of countries is releated to the growth of pollution?"
   ]
  },
  {
   "cell_type": "code",
   "execution_count": 657,
   "id": "f35f9b2b",
   "metadata": {},
   "outputs": [],
   "source": [
    "import pandas as pd\n",
    "import matplotlib.pyplot as plt\n",
    "import numpy as np\n",
    "from scipy import stats\n",
    "import math"
   ]
  },
  {
   "cell_type": "code",
   "execution_count": 658,
   "id": "30d24993",
   "metadata": {
    "scrolled": false
   },
   "outputs": [
    {
     "data": {
      "text/html": [
       "<div>\n",
       "<style scoped>\n",
       "    .dataframe tbody tr th:only-of-type {\n",
       "        vertical-align: middle;\n",
       "    }\n",
       "\n",
       "    .dataframe tbody tr th {\n",
       "        vertical-align: top;\n",
       "    }\n",
       "\n",
       "    .dataframe thead th {\n",
       "        text-align: right;\n",
       "    }\n",
       "</style>\n",
       "<table border=\"1\" class=\"dataframe\">\n",
       "  <thead>\n",
       "    <tr style=\"text-align: right;\">\n",
       "      <th></th>\n",
       "      <th>iso_code</th>\n",
       "      <th>country</th>\n",
       "      <th>year</th>\n",
       "      <th>co2</th>\n",
       "      <th>co2_per_capita</th>\n",
       "      <th>trade_co2</th>\n",
       "      <th>cement_co2</th>\n",
       "      <th>cement_co2_per_capita</th>\n",
       "      <th>coal_co2</th>\n",
       "      <th>coal_co2_per_capita</th>\n",
       "      <th>...</th>\n",
       "      <th>ghg_excluding_lucf_per_capita</th>\n",
       "      <th>methane</th>\n",
       "      <th>methane_per_capita</th>\n",
       "      <th>nitrous_oxide</th>\n",
       "      <th>nitrous_oxide_per_capita</th>\n",
       "      <th>population</th>\n",
       "      <th>gdp</th>\n",
       "      <th>primary_energy_consumption</th>\n",
       "      <th>energy_per_capita</th>\n",
       "      <th>energy_per_gdp</th>\n",
       "    </tr>\n",
       "  </thead>\n",
       "  <tbody>\n",
       "    <tr>\n",
       "      <th>0</th>\n",
       "      <td>AFG</td>\n",
       "      <td>Afghanistan</td>\n",
       "      <td>1949</td>\n",
       "      <td>0.015</td>\n",
       "      <td>0.002</td>\n",
       "      <td>NaN</td>\n",
       "      <td>NaN</td>\n",
       "      <td>NaN</td>\n",
       "      <td>0.015</td>\n",
       "      <td>0.002</td>\n",
       "      <td>...</td>\n",
       "      <td>NaN</td>\n",
       "      <td>NaN</td>\n",
       "      <td>NaN</td>\n",
       "      <td>NaN</td>\n",
       "      <td>NaN</td>\n",
       "      <td>7624058.0</td>\n",
       "      <td>NaN</td>\n",
       "      <td>NaN</td>\n",
       "      <td>NaN</td>\n",
       "      <td>NaN</td>\n",
       "    </tr>\n",
       "    <tr>\n",
       "      <th>1</th>\n",
       "      <td>AFG</td>\n",
       "      <td>Afghanistan</td>\n",
       "      <td>1950</td>\n",
       "      <td>0.084</td>\n",
       "      <td>0.011</td>\n",
       "      <td>NaN</td>\n",
       "      <td>NaN</td>\n",
       "      <td>NaN</td>\n",
       "      <td>0.021</td>\n",
       "      <td>0.003</td>\n",
       "      <td>...</td>\n",
       "      <td>NaN</td>\n",
       "      <td>NaN</td>\n",
       "      <td>NaN</td>\n",
       "      <td>NaN</td>\n",
       "      <td>NaN</td>\n",
       "      <td>7752117.0</td>\n",
       "      <td>9.421400e+09</td>\n",
       "      <td>NaN</td>\n",
       "      <td>NaN</td>\n",
       "      <td>NaN</td>\n",
       "    </tr>\n",
       "    <tr>\n",
       "      <th>2</th>\n",
       "      <td>AFG</td>\n",
       "      <td>Afghanistan</td>\n",
       "      <td>1951</td>\n",
       "      <td>0.092</td>\n",
       "      <td>0.012</td>\n",
       "      <td>NaN</td>\n",
       "      <td>NaN</td>\n",
       "      <td>NaN</td>\n",
       "      <td>0.026</td>\n",
       "      <td>0.003</td>\n",
       "      <td>...</td>\n",
       "      <td>NaN</td>\n",
       "      <td>NaN</td>\n",
       "      <td>NaN</td>\n",
       "      <td>NaN</td>\n",
       "      <td>NaN</td>\n",
       "      <td>7840151.0</td>\n",
       "      <td>9.692280e+09</td>\n",
       "      <td>NaN</td>\n",
       "      <td>NaN</td>\n",
       "      <td>NaN</td>\n",
       "    </tr>\n",
       "    <tr>\n",
       "      <th>3</th>\n",
       "      <td>AFG</td>\n",
       "      <td>Afghanistan</td>\n",
       "      <td>1952</td>\n",
       "      <td>0.092</td>\n",
       "      <td>0.012</td>\n",
       "      <td>NaN</td>\n",
       "      <td>NaN</td>\n",
       "      <td>NaN</td>\n",
       "      <td>0.032</td>\n",
       "      <td>0.004</td>\n",
       "      <td>...</td>\n",
       "      <td>NaN</td>\n",
       "      <td>NaN</td>\n",
       "      <td>NaN</td>\n",
       "      <td>NaN</td>\n",
       "      <td>NaN</td>\n",
       "      <td>7935996.0</td>\n",
       "      <td>1.001733e+10</td>\n",
       "      <td>NaN</td>\n",
       "      <td>NaN</td>\n",
       "      <td>NaN</td>\n",
       "    </tr>\n",
       "    <tr>\n",
       "      <th>4</th>\n",
       "      <td>AFG</td>\n",
       "      <td>Afghanistan</td>\n",
       "      <td>1953</td>\n",
       "      <td>0.106</td>\n",
       "      <td>0.013</td>\n",
       "      <td>NaN</td>\n",
       "      <td>NaN</td>\n",
       "      <td>NaN</td>\n",
       "      <td>0.038</td>\n",
       "      <td>0.005</td>\n",
       "      <td>...</td>\n",
       "      <td>NaN</td>\n",
       "      <td>NaN</td>\n",
       "      <td>NaN</td>\n",
       "      <td>NaN</td>\n",
       "      <td>NaN</td>\n",
       "      <td>8039684.0</td>\n",
       "      <td>1.063052e+10</td>\n",
       "      <td>NaN</td>\n",
       "      <td>NaN</td>\n",
       "      <td>NaN</td>\n",
       "    </tr>\n",
       "  </tbody>\n",
       "</table>\n",
       "<p>5 rows × 60 columns</p>\n",
       "</div>"
      ],
      "text/plain": [
       "  iso_code      country  year    co2  co2_per_capita  trade_co2  cement_co2  \\\n",
       "0      AFG  Afghanistan  1949  0.015           0.002        NaN         NaN   \n",
       "1      AFG  Afghanistan  1950  0.084           0.011        NaN         NaN   \n",
       "2      AFG  Afghanistan  1951  0.092           0.012        NaN         NaN   \n",
       "3      AFG  Afghanistan  1952  0.092           0.012        NaN         NaN   \n",
       "4      AFG  Afghanistan  1953  0.106           0.013        NaN         NaN   \n",
       "\n",
       "   cement_co2_per_capita  coal_co2  coal_co2_per_capita  ...  \\\n",
       "0                    NaN     0.015                0.002  ...   \n",
       "1                    NaN     0.021                0.003  ...   \n",
       "2                    NaN     0.026                0.003  ...   \n",
       "3                    NaN     0.032                0.004  ...   \n",
       "4                    NaN     0.038                0.005  ...   \n",
       "\n",
       "   ghg_excluding_lucf_per_capita  methane  methane_per_capita  nitrous_oxide  \\\n",
       "0                            NaN      NaN                 NaN            NaN   \n",
       "1                            NaN      NaN                 NaN            NaN   \n",
       "2                            NaN      NaN                 NaN            NaN   \n",
       "3                            NaN      NaN                 NaN            NaN   \n",
       "4                            NaN      NaN                 NaN            NaN   \n",
       "\n",
       "   nitrous_oxide_per_capita  population           gdp  \\\n",
       "0                       NaN   7624058.0           NaN   \n",
       "1                       NaN   7752117.0  9.421400e+09   \n",
       "2                       NaN   7840151.0  9.692280e+09   \n",
       "3                       NaN   7935996.0  1.001733e+10   \n",
       "4                       NaN   8039684.0  1.063052e+10   \n",
       "\n",
       "   primary_energy_consumption  energy_per_capita  energy_per_gdp  \n",
       "0                         NaN                NaN             NaN  \n",
       "1                         NaN                NaN             NaN  \n",
       "2                         NaN                NaN             NaN  \n",
       "3                         NaN                NaN             NaN  \n",
       "4                         NaN                NaN             NaN  \n",
       "\n",
       "[5 rows x 60 columns]"
      ]
     },
     "execution_count": 658,
     "metadata": {},
     "output_type": "execute_result"
    }
   ],
   "source": [
    "df = pd.read_csv('data/owid_co2_data.csv')\n",
    "df.head()"
   ]
  },
  {
   "cell_type": "code",
   "execution_count": 659,
   "id": "b559e477",
   "metadata": {
    "scrolled": true
   },
   "outputs": [
    {
     "name": "stdout",
     "output_type": "stream",
     "text": [
      "{'Micronesia (country)', 'Leeward Islands', 'North America', 'Panama Canal Zone', 'Africa', 'Low-income countries', 'Wallis and Futuna', 'Kuwaiti Oil Fires', 'Upper-middle-income countries', 'French West Africa', 'High-income countries', 'Reunion', 'International transport', 'Europe (excl. EU-27)', 'Europe (excl. EU-28)', 'Asia', 'European Union (27)', 'Asia (excl. China & India)', 'Ryukyu Islands', 'French Equatorial Africa', 'South America', 'Lower-middle-income countries', 'Europe', 'European Union (28)', 'EU-27', 'Oceania', 'Macao', 'North America (excl. USA)', 'St. Kitts-Nevis-Anguilla'}\n"
     ]
    }
   ],
   "source": [
    "not_countries = set([])\n",
    "for index, row in df[df.iso_code.isna() == True].iterrows():\n",
    "    not_countries.add(row[1])\n",
    "    \n",
    "print(not_countries)\n",
    "for not_country in list(not_countries):\n",
    "    df = df.drop(df[df.country == not_country].index)"
   ]
  },
  {
   "cell_type": "code",
   "execution_count": 660,
   "id": "0fd3c5eb",
   "metadata": {
    "scrolled": true
   },
   "outputs": [
    {
     "data": {
      "text/html": [
       "<div>\n",
       "<style scoped>\n",
       "    .dataframe tbody tr th:only-of-type {\n",
       "        vertical-align: middle;\n",
       "    }\n",
       "\n",
       "    .dataframe tbody tr th {\n",
       "        vertical-align: top;\n",
       "    }\n",
       "\n",
       "    .dataframe thead th {\n",
       "        text-align: right;\n",
       "    }\n",
       "</style>\n",
       "<table border=\"1\" class=\"dataframe\">\n",
       "  <thead>\n",
       "    <tr style=\"text-align: right;\">\n",
       "      <th></th>\n",
       "      <th>country</th>\n",
       "      <th>year</th>\n",
       "      <th>co2</th>\n",
       "      <th>population</th>\n",
       "      <th>gdp</th>\n",
       "    </tr>\n",
       "  </thead>\n",
       "  <tbody>\n",
       "    <tr>\n",
       "      <th>0</th>\n",
       "      <td>Afghanistan</td>\n",
       "      <td>1949</td>\n",
       "      <td>0.015</td>\n",
       "      <td>7624058.0</td>\n",
       "      <td>NaN</td>\n",
       "    </tr>\n",
       "    <tr>\n",
       "      <th>1</th>\n",
       "      <td>Afghanistan</td>\n",
       "      <td>1950</td>\n",
       "      <td>0.084</td>\n",
       "      <td>7752117.0</td>\n",
       "      <td>9.421400e+09</td>\n",
       "    </tr>\n",
       "    <tr>\n",
       "      <th>2</th>\n",
       "      <td>Afghanistan</td>\n",
       "      <td>1951</td>\n",
       "      <td>0.092</td>\n",
       "      <td>7840151.0</td>\n",
       "      <td>9.692280e+09</td>\n",
       "    </tr>\n",
       "    <tr>\n",
       "      <th>3</th>\n",
       "      <td>Afghanistan</td>\n",
       "      <td>1952</td>\n",
       "      <td>0.092</td>\n",
       "      <td>7935996.0</td>\n",
       "      <td>1.001733e+10</td>\n",
       "    </tr>\n",
       "    <tr>\n",
       "      <th>4</th>\n",
       "      <td>Afghanistan</td>\n",
       "      <td>1953</td>\n",
       "      <td>0.106</td>\n",
       "      <td>8039684.0</td>\n",
       "      <td>1.063052e+10</td>\n",
       "    </tr>\n",
       "  </tbody>\n",
       "</table>\n",
       "</div>"
      ],
      "text/plain": [
       "       country  year    co2  population           gdp\n",
       "0  Afghanistan  1949  0.015   7624058.0           NaN\n",
       "1  Afghanistan  1950  0.084   7752117.0  9.421400e+09\n",
       "2  Afghanistan  1951  0.092   7840151.0  9.692280e+09\n",
       "3  Afghanistan  1952  0.092   7935996.0  1.001733e+10\n",
       "4  Afghanistan  1953  0.106   8039684.0  1.063052e+10"
      ]
     },
     "execution_count": 660,
     "metadata": {},
     "output_type": "execute_result"
    }
   ],
   "source": [
    "df = df.filter(['country', 'year', 'co2', 'population', 'gdp'], axis=1)\n",
    "df.head()"
   ]
  },
  {
   "cell_type": "code",
   "execution_count": 661,
   "id": "3c8f1e7b",
   "metadata": {
    "scrolled": true
   },
   "outputs": [
    {
     "name": "stdout",
     "output_type": "stream",
     "text": [
      "null values:\n",
      "country          0\n",
      "year             0\n",
      "co2            848\n",
      "population     331\n",
      "gdp           8491\n",
      "dtype: int64\n"
     ]
    }
   ],
   "source": [
    "print('null values:')\n",
    "print(df.isna().sum())"
   ]
  },
  {
   "cell_type": "code",
   "execution_count": 662,
   "id": "ac4aed9d",
   "metadata": {},
   "outputs": [],
   "source": [
    "#Removing null rows that contains null values in co2 column\n",
    "df = df[df.co2.notna()]"
   ]
  },
  {
   "cell_type": "code",
   "execution_count": 663,
   "id": "29d221db",
   "metadata": {
    "scrolled": true
   },
   "outputs": [
    {
     "name": "stdout",
     "output_type": "stream",
     "text": [
      "Afghanistan                  71\n",
      "Saint Pierre and Miquelon    71\n",
      "Nicaragua                    71\n",
      "Nigeria                      71\n",
      "North Korea                  71\n",
      "                             ..\n",
      "Ghana                        71\n",
      "Greece                       71\n",
      "Greenland                    71\n",
      "Grenada                      71\n",
      "Zimbabwe                     71\n",
      "Name: country, Length: 163, dtype: int64\n"
     ]
    }
   ],
   "source": [
    "#Removing rows with year less than 1950\n",
    "filtered_df = df.drop(df[df.year < 1950].index)\n",
    "\n",
    "#Removing rows that refers to the globe\n",
    "filtered_df = filtered_df.drop(\n",
    "    filtered_df[filtered_df.country == 'World'].index)\n",
    "\n",
    "#Since this study consists of the analysis of climate change from 1950\n",
    "#The countries that appear less than 71 times are not considered because the lack of data\n",
    "freq_table = filtered_df.country.value_counts()\n",
    "\n",
    "countries_to_delete = []\n",
    "for country, value in freq_table.items():\n",
    "    if value < 71:\n",
    "        countries_to_delete.append(country)\n",
    "\n",
    "for country in countries_to_delete:\n",
    "    filtered_df = filtered_df.drop(filtered_df[filtered_df.country == country].index)\n",
    "    \n",
    "x = filtered_df.country.value_counts()\n",
    "print(x)"
   ]
  },
  {
   "cell_type": "code",
   "execution_count": 664,
   "id": "c50f04e7",
   "metadata": {
    "scrolled": true
   },
   "outputs": [
    {
     "name": "stdout",
     "output_type": "stream",
     "text": [
      "gdp null values:  2643\n",
      "---------------------------------------------\n",
      "Number of null gdp means:  2\n",
      "---------------------------------------------\n",
      "Years with null gdp:  [2019, 2020]\n",
      "---------------------------------------------\n",
      "gdp null values:  0\n"
     ]
    }
   ],
   "source": [
    "print('gdp null values: ', filtered_df.gdp.isna().sum())\n",
    "print('---------------------------------------------')\n",
    "\n",
    "years = filtered_df.year.value_counts(sort=False, ascending=True)\n",
    "means = []\n",
    "for year in years.index:\n",
    "    means.append(filtered_df[filtered_df.year == year].gdp.mean())\n",
    "\n",
    "count = 0\n",
    "indexes = []\n",
    "for index, mean in enumerate(means):\n",
    "    if math.isnan(mean):\n",
    "        count = count + 1\n",
    "        indexes.append(index)\n",
    "print('Number of null gdp means: ', count)\n",
    "print('---------------------------------------------')\n",
    "\n",
    "#Getting the year of null gdp means\n",
    "null_years = []\n",
    "for index in indexes:\n",
    "    null_years.append(years.index.tolist()[index])\n",
    "print('Years with null gdp: ', null_years)\n",
    "print('---------------------------------------------')\n",
    "\n",
    "#Substitute null values with the nearest year with gdp mean filled\n",
    "index = years.index.tolist().index(2018)\n",
    "for year in null_years:\n",
    "    filtered_df.loc[filtered_df.year == year, 'gdp'] = means[index]\n",
    "\n",
    "#Replace null values with the mean of each year\n",
    "for year in years.index:\n",
    "    index = years.index.tolist().index(year)\n",
    "    filtered_df.loc[(filtered_df.gdp.isna() == True) & (filtered_df.year == year), 'gdp'] = means[index]\n",
    "\n",
    "print('gdp null values: ', filtered_df.gdp.isna().sum())"
   ]
  },
  {
   "cell_type": "code",
   "execution_count": 665,
   "id": "55bfcd49",
   "metadata": {},
   "outputs": [
    {
     "name": "stdout",
     "output_type": "stream",
     "text": [
      "population null values:  0\n",
      "---------------------------------------------\n",
      "Number of null population means:  0\n",
      "---------------------------------------------\n",
      "population null values:  0\n"
     ]
    }
   ],
   "source": [
    "print('population null values: ', filtered_df.population.isna().sum())\n",
    "print('---------------------------------------------')\n",
    "\n",
    "years = filtered_df.year.value_counts(sort=False, ascending=True)\n",
    "means = []\n",
    "for year in years.index:\n",
    "    means.append(filtered_df[filtered_df.year == year].population.mean())\n",
    "\n",
    "count = 0\n",
    "indexes = []\n",
    "for index, mean in enumerate(means):\n",
    "    if math.isnan(mean):\n",
    "        count = count + 1\n",
    "        indexes.append(index)\n",
    "print('Number of null population means: ', count)\n",
    "print('---------------------------------------------')\n",
    "\n",
    "#Replace null values with the mean of each year\n",
    "for year in years.index:\n",
    "    index = years.index.tolist().index(year)\n",
    "    filtered_df.loc[(filtered_df.population.isna() == True) & (filtered_df.year == year), 'population'] = means[index]\n",
    "\n",
    "print('population null values: ', filtered_df.population.isna().sum())"
   ]
  },
  {
   "cell_type": "code",
   "execution_count": 666,
   "id": "cecf3c15",
   "metadata": {},
   "outputs": [
    {
     "name": "stdout",
     "output_type": "stream",
     "text": [
      "co2 mean:  121.158\n",
      "---------------------------------------------\n",
      "co2 median:  11.091\n",
      "---------------------------------------------\n",
      "co2 variance:  221548.878\n",
      "---------------------------------------------\n",
      "co2 standard deviation:  470.69\n",
      "---------------------------------------------\n",
      "co2 mean absolute deviation:  171.219\n",
      "---------------------------------------------\n"
     ]
    }
   ],
   "source": [
    "#Caluclate the mean of co2 for each country from 1950 to 2020\n",
    "countries = filtered_df.country.value_counts()\n",
    "means = []\n",
    "for country in countries.index:\n",
    "    means.append(filtered_df[filtered_df.country == country].co2.mean())\n",
    "        \n",
    "means_to_series = pd.Series(means)\n",
    "\n",
    "#Calculate co2 mean\n",
    "mean = means_to_series.mean()\n",
    "print('co2 mean: ', round(mean, 3))\n",
    "print('---------------------------------------------')\n",
    "\n",
    "#Calculate co2 median\n",
    "median = means_to_series.median()\n",
    "print('co2 median: ', round(median, 3))\n",
    "print('---------------------------------------------')\n",
    "\n",
    "#Calculate co2 variance\n",
    "variance = means_to_series.var()\n",
    "print('co2 variance: ', round(variance, 3))\n",
    "print('---------------------------------------------')\n",
    "\n",
    "#Calculate co2 standard deviation\n",
    "standard_deviation = means_to_series.std()\n",
    "print('co2 standard deviation: ', round(standard_deviation, 3))\n",
    "print('---------------------------------------------')\n",
    "\n",
    "#Calculate co2 mean absolute deviation\n",
    "mean_absolute_deviation = means_to_series.mad()\n",
    "print('co2 mean absolute deviation: ', round(mean_absolute_deviation, 3))\n",
    "print('---------------------------------------------')"
   ]
  },
  {
   "cell_type": "code",
   "execution_count": 667,
   "id": "4b26ac2c",
   "metadata": {},
   "outputs": [
    {
     "name": "stdout",
     "output_type": "stream",
     "text": [
      "null values:\n",
      "country       0\n",
      "year          0\n",
      "co2           0\n",
      "population    0\n",
      "gdp           0\n",
      "dtype: int64\n"
     ]
    }
   ],
   "source": [
    "print('null values:')\n",
    "print(filtered_df.isna().sum())"
   ]
  },
  {
   "cell_type": "code",
   "execution_count": 668,
   "id": "67b53849",
   "metadata": {},
   "outputs": [
    {
     "name": "stdout",
     "output_type": "stream",
     "text": [
      "[315.628338028169, 1536.5339014084507, 265.63171830985914, 402.4757887323945, 556.374098591549, 4609.558112676056, 277.9209859154929, 258.0555633802817, 411.61485915492955, 3292.5643661971826, 244.37242253521126, 739.1025070422534, 254.05183098591544, 325.19711267605624, 867.756591549296, 380.9405211267606, 900.7831267605635, 4110.182647887323]\n",
      "['Poland', 'Russia', 'Mexico', 'Ukraine', 'United Kingdom', 'United States', 'South Africa', 'South Korea', 'Canada', 'China', 'Australia', 'India', 'Iran', 'Italy', 'Japan', 'France', 'Germany', 'Others (146)']\n"
     ]
    },
    {
     "data": {
      "text/plain": [
       "(-1.1149960964001837,\n",
       " 1.1007140998285803,\n",
       " -1.1021304572016029,\n",
       " 1.1261253147783923)"
      ]
     },
     "execution_count": 668,
     "metadata": {},
     "output_type": "execute_result"
    },
    {
     "data": {
      "image/png": "[encoded data removed]",
      "text/plain": [
       "<Figure size 504x504 with 1 Axes>"
      ]
     },
     "metadata": {
      "needs_background": "light"
     },
     "output_type": "display_data"
    },
    {
     "data": {
      "image/png": "[encoded data removed]",
      "text/plain": [
       "<Figure size 720x720 with 1 Axes>"
      ]
     },
     "metadata": {},
     "output_type": "display_data"
    }
   ],
   "source": [
    "#Graphics\n",
    "values = []\n",
    "labels = []\n",
    "others_value = 0\n",
    "\n",
    "for index, mean in enumerate(means):\n",
    "    if mean > 243:\n",
    "        values.append(mean)\n",
    "        labels.append(countries.index[index])\n",
    "    else:\n",
    "        others_value = others_value + mean\n",
    "\n",
    "labels.append('Others (' + str(len(means) - len(values)) + ')')\n",
    "values.append(others_value)\n",
    "        \n",
    "print(values)\n",
    "print(labels)\n",
    "\n",
    "\n",
    "fig, ax = plt.subplots(figsize=(7, 7))\n",
    "ax.boxplot(values)\n",
    "\n",
    "fig1, ax1 = plt.subplots(figsize=(10, 10))\n",
    "ax1.pie(values, labels=labels, autopct='%1.1f%%')\n",
    "ax1.axis(\"equal\")"
   ]
  },
  {
   "cell_type": "code",
   "execution_count": 669,
   "id": "3735ad79",
   "metadata": {},
   "outputs": [
    {
     "data": {
      "image/png": "[encoded data removed]",
      "text/plain": [
       "<Figure size 576x432 with 3 Axes>"
      ]
     },
     "metadata": {
      "needs_background": "light"
     },
     "output_type": "display_data"
    }
   ],
   "source": [
    "years = filtered_df.year.value_counts(sort=False, ascending=True)\n",
    "\n",
    "#Calculate co2 mean for each year\n",
    "co2_means = []\n",
    "for year in years.index:\n",
    "    co2_means.append(filtered_df[filtered_df.year == year].co2.mean())\n",
    "\n",
    "#Calculate gdp mean for each year\n",
    "gdp_means = []\n",
    "for year in years.index:\n",
    "    gdp_means.append(filtered_df[filtered_df.year == year].gdp.mean())\n",
    "\n",
    "#Calculate population sum for each year\n",
    "population_sum = []\n",
    "for year in years.index:\n",
    "    population_sum.append(filtered_df[filtered_df.year == year].population.sum())\n",
    "\n",
    "fig, ax_co2 = plt.subplots(figsize=(8,6))\n",
    "ax_population = ax_co2.twinx()\n",
    "ax_gdp = ax_co2.twinx()\n",
    "\n",
    "ax_co2.set_xlabel('Year')\n",
    "ax_co2.set_ylabel('co2 in Kg')\n",
    "ax_population.set_ylabel('Population')\n",
    "ax_gdp.set_ylabel('gdp')\n",
    "\n",
    "p1, = ax_co2.plot(years.index, co2_means, linewidth=4.0,\n",
    "                  color='blue', label='co2 in Kg')\n",
    "p2, = ax_population.plot(years.index, population_sum, linewidth=4.0,    \n",
    "                         color='red', label='Population')\n",
    "p3, = ax_gdp.plot(years.index, gdp_means, linewidth=4.0,\n",
    "                  color='green', label='gdp')\n",
    "\n",
    "ax_co2.legend(handles=[p1, p2, p3], loc='best')\n",
    "\n",
    "ax_gdp.spines['right'].set_position(('outward', 60))\n",
    "\n",
    "ax_co2.yaxis.label.set_color(p1.get_color())\n",
    "ax_population.yaxis.label.set_color(p2.get_color())\n",
    "ax_gdp.yaxis.label.set_color(p3.get_color())"
   ]
  },
  {
   "cell_type": "code",
   "execution_count": 670,
   "id": "79c5bd45",
   "metadata": {},
   "outputs": [
    {
     "name": "stdout",
     "output_type": "stream",
     "text": [
      "Correlation Matrix between co2, population and gdp:\n",
      "\n",
      "                 co2  population       gdp\n",
      "co2         1.000000    0.634882  0.881804\n",
      "population  0.634882    1.000000  0.573223\n",
      "gdp         0.881804    0.573223  1.000000\n"
     ]
    },
    {
     "data": {
      "image/png": "[encoded data removed]",
      "text/plain": [
       "<Figure size 432x288 with 2 Axes>"
      ]
     },
     "metadata": {
      "needs_background": "light"
     },
     "output_type": "display_data"
    }
   ],
   "source": [
    "print(\"Correlation Matrix between co2, population and gdp:\\n\")\n",
    "print(filtered_df.loc[:,['co2', 'population', 'gdp']].corr())\n",
    "\n",
    "df_corr = filtered_df.loc[:,['co2', 'population', 'gdp']]\n",
    "plt.imshow(df_corr.corr(), cmap = plt.cm.Blues, interpolation='nearest')\n",
    "plt.colorbar()\n",
    "tick_marks = [i for i in range(len(df_corr.columns))]\n",
    "plt.xticks(tick_marks, df_corr.columns, rotation='vertical')\n",
    "plt.yticks(tick_marks, df_corr.columns)\n",
    "plt.show()"
   ]
  },
  {
   "cell_type": "code",
   "execution_count": 671,
   "id": "c8b93394",
   "metadata": {
    "scrolled": true
   },
   "outputs": [
    {
     "data": {
      "text/html": [
       "<div>\n",
       "<style scoped>\n",
       "    .dataframe tbody tr th:only-of-type {\n",
       "        vertical-align: middle;\n",
       "    }\n",
       "\n",
       "    .dataframe tbody tr th {\n",
       "        vertical-align: top;\n",
       "    }\n",
       "\n",
       "    .dataframe thead th {\n",
       "        text-align: right;\n",
       "    }\n",
       "</style>\n",
       "<table border=\"1\" class=\"dataframe\">\n",
       "  <thead>\n",
       "    <tr style=\"text-align: right;\">\n",
       "      <th></th>\n",
       "      <th>dt</th>\n",
       "      <th>AverageTemperature</th>\n",
       "      <th>AverageTemperatureUncertainty</th>\n",
       "      <th>Country</th>\n",
       "    </tr>\n",
       "  </thead>\n",
       "  <tbody>\n",
       "    <tr>\n",
       "      <th>0</th>\n",
       "      <td>1743-11-01</td>\n",
       "      <td>4.384</td>\n",
       "      <td>2.294</td>\n",
       "      <td>Åland</td>\n",
       "    </tr>\n",
       "    <tr>\n",
       "      <th>1</th>\n",
       "      <td>1743-12-01</td>\n",
       "      <td>NaN</td>\n",
       "      <td>NaN</td>\n",
       "      <td>Åland</td>\n",
       "    </tr>\n",
       "    <tr>\n",
       "      <th>2</th>\n",
       "      <td>1744-01-01</td>\n",
       "      <td>NaN</td>\n",
       "      <td>NaN</td>\n",
       "      <td>Åland</td>\n",
       "    </tr>\n",
       "    <tr>\n",
       "      <th>3</th>\n",
       "      <td>1744-02-01</td>\n",
       "      <td>NaN</td>\n",
       "      <td>NaN</td>\n",
       "      <td>Åland</td>\n",
       "    </tr>\n",
       "    <tr>\n",
       "      <th>4</th>\n",
       "      <td>1744-03-01</td>\n",
       "      <td>NaN</td>\n",
       "      <td>NaN</td>\n",
       "      <td>Åland</td>\n",
       "    </tr>\n",
       "  </tbody>\n",
       "</table>\n",
       "</div>"
      ],
      "text/plain": [
       "           dt  AverageTemperature  AverageTemperatureUncertainty Country\n",
       "0  1743-11-01               4.384                          2.294   Åland\n",
       "1  1743-12-01                 NaN                            NaN   Åland\n",
       "2  1744-01-01                 NaN                            NaN   Åland\n",
       "3  1744-02-01                 NaN                            NaN   Åland\n",
       "4  1744-03-01                 NaN                            NaN   Åland"
      ]
     },
     "execution_count": 671,
     "metadata": {},
     "output_type": "execute_result"
    }
   ],
   "source": [
    "climate_df = pd.read_csv('data/GlobalLandTemperaturesByCountry.csv')\n",
    "climate_df.head()"
   ]
  },
  {
   "cell_type": "code",
   "execution_count": 672,
   "id": "8ada43d5",
   "metadata": {},
   "outputs": [
    {
     "data": {
      "text/html": [
       "<div>\n",
       "<style scoped>\n",
       "    .dataframe tbody tr th:only-of-type {\n",
       "        vertical-align: middle;\n",
       "    }\n",
       "\n",
       "    .dataframe tbody tr th {\n",
       "        vertical-align: top;\n",
       "    }\n",
       "\n",
       "    .dataframe thead th {\n",
       "        text-align: right;\n",
       "    }\n",
       "</style>\n",
       "<table border=\"1\" class=\"dataframe\">\n",
       "  <thead>\n",
       "    <tr style=\"text-align: right;\">\n",
       "      <th></th>\n",
       "      <th>dt</th>\n",
       "      <th>AverageTemperature</th>\n",
       "      <th>Country</th>\n",
       "    </tr>\n",
       "  </thead>\n",
       "  <tbody>\n",
       "    <tr>\n",
       "      <th>0</th>\n",
       "      <td>1743-11-01</td>\n",
       "      <td>4.384</td>\n",
       "      <td>Åland</td>\n",
       "    </tr>\n",
       "    <tr>\n",
       "      <th>1</th>\n",
       "      <td>1743-12-01</td>\n",
       "      <td>NaN</td>\n",
       "      <td>Åland</td>\n",
       "    </tr>\n",
       "    <tr>\n",
       "      <th>2</th>\n",
       "      <td>1744-01-01</td>\n",
       "      <td>NaN</td>\n",
       "      <td>Åland</td>\n",
       "    </tr>\n",
       "    <tr>\n",
       "      <th>3</th>\n",
       "      <td>1744-02-01</td>\n",
       "      <td>NaN</td>\n",
       "      <td>Åland</td>\n",
       "    </tr>\n",
       "    <tr>\n",
       "      <th>4</th>\n",
       "      <td>1744-03-01</td>\n",
       "      <td>NaN</td>\n",
       "      <td>Åland</td>\n",
       "    </tr>\n",
       "  </tbody>\n",
       "</table>\n",
       "</div>"
      ],
      "text/plain": [
       "           dt  AverageTemperature Country\n",
       "0  1743-11-01               4.384   Åland\n",
       "1  1743-12-01                 NaN   Åland\n",
       "2  1744-01-01                 NaN   Åland\n",
       "3  1744-02-01                 NaN   Åland\n",
       "4  1744-03-01                 NaN   Åland"
      ]
     },
     "execution_count": 672,
     "metadata": {},
     "output_type": "execute_result"
    }
   ],
   "source": [
    "climate_df = climate_df.filter(['dt','AverageTemperature', 'Country'], axis=1)\n",
    "climate_df.head()"
   ]
  },
  {
   "cell_type": "code",
   "execution_count": 673,
   "id": "562be29c",
   "metadata": {},
   "outputs": [
    {
     "name": "stdout",
     "output_type": "stream",
     "text": [
      "null values:\n",
      "dt                        0\n",
      "AverageTemperature    32651\n",
      "Country                   0\n",
      "dtype: int64\n"
     ]
    }
   ],
   "source": [
    "print('null values:')\n",
    "print(climate_df.isna().sum())"
   ]
  },
  {
   "cell_type": "code",
   "execution_count": 674,
   "id": "a47d08c1",
   "metadata": {},
   "outputs": [],
   "source": [
    "indexes_to_drop = []\n",
    "for index, row in climate_df.iterrows():\n",
    "    if int(row[0].split('-')[0]) < 1950:\n",
    "        indexes_to_drop.append(index)\n",
    "\n",
    "climate_filtered = climate_df.drop(climate_df.index[indexes_to_drop])"
   ]
  },
  {
   "cell_type": "code",
   "execution_count": 675,
   "id": "bad614fa",
   "metadata": {},
   "outputs": [
    {
     "data": {
      "text/html": [
       "<div>\n",
       "<style scoped>\n",
       "    .dataframe tbody tr th:only-of-type {\n",
       "        vertical-align: middle;\n",
       "    }\n",
       "\n",
       "    .dataframe tbody tr th {\n",
       "        vertical-align: top;\n",
       "    }\n",
       "\n",
       "    .dataframe thead th {\n",
       "        text-align: right;\n",
       "    }\n",
       "</style>\n",
       "<table border=\"1\" class=\"dataframe\">\n",
       "  <thead>\n",
       "    <tr style=\"text-align: right;\">\n",
       "      <th></th>\n",
       "      <th>dt</th>\n",
       "      <th>AverageTemperature</th>\n",
       "      <th>Country</th>\n",
       "    </tr>\n",
       "  </thead>\n",
       "  <tbody>\n",
       "    <tr>\n",
       "      <th>2474</th>\n",
       "      <td>1950-01-01</td>\n",
       "      <td>-5.611</td>\n",
       "      <td>Åland</td>\n",
       "    </tr>\n",
       "    <tr>\n",
       "      <th>2475</th>\n",
       "      <td>1950-02-01</td>\n",
       "      <td>-1.804</td>\n",
       "      <td>Åland</td>\n",
       "    </tr>\n",
       "    <tr>\n",
       "      <th>2476</th>\n",
       "      <td>1950-03-01</td>\n",
       "      <td>0.090</td>\n",
       "      <td>Åland</td>\n",
       "    </tr>\n",
       "    <tr>\n",
       "      <th>2477</th>\n",
       "      <td>1950-04-01</td>\n",
       "      <td>3.630</td>\n",
       "      <td>Åland</td>\n",
       "    </tr>\n",
       "    <tr>\n",
       "      <th>2478</th>\n",
       "      <td>1950-05-01</td>\n",
       "      <td>8.106</td>\n",
       "      <td>Åland</td>\n",
       "    </tr>\n",
       "    <tr>\n",
       "      <th>2479</th>\n",
       "      <td>1950-06-01</td>\n",
       "      <td>12.783</td>\n",
       "      <td>Åland</td>\n",
       "    </tr>\n",
       "    <tr>\n",
       "      <th>2480</th>\n",
       "      <td>1950-07-01</td>\n",
       "      <td>14.604</td>\n",
       "      <td>Åland</td>\n",
       "    </tr>\n",
       "    <tr>\n",
       "      <th>2481</th>\n",
       "      <td>1950-08-01</td>\n",
       "      <td>16.482</td>\n",
       "      <td>Åland</td>\n",
       "    </tr>\n",
       "    <tr>\n",
       "      <th>2482</th>\n",
       "      <td>1950-09-01</td>\n",
       "      <td>12.326</td>\n",
       "      <td>Åland</td>\n",
       "    </tr>\n",
       "    <tr>\n",
       "      <th>2483</th>\n",
       "      <td>1950-10-01</td>\n",
       "      <td>7.808</td>\n",
       "      <td>Åland</td>\n",
       "    </tr>\n",
       "  </tbody>\n",
       "</table>\n",
       "</div>"
      ],
      "text/plain": [
       "              dt  AverageTemperature Country\n",
       "2474  1950-01-01              -5.611   Åland\n",
       "2475  1950-02-01              -1.804   Åland\n",
       "2476  1950-03-01               0.090   Åland\n",
       "2477  1950-04-01               3.630   Åland\n",
       "2478  1950-05-01               8.106   Åland\n",
       "2479  1950-06-01              12.783   Åland\n",
       "2480  1950-07-01              14.604   Åland\n",
       "2481  1950-08-01              16.482   Åland\n",
       "2482  1950-09-01              12.326   Åland\n",
       "2483  1950-10-01               7.808   Åland"
      ]
     },
     "execution_count": 675,
     "metadata": {},
     "output_type": "execute_result"
    }
   ],
   "source": [
    "climate_filtered.head(10)"
   ]
  },
  {
   "cell_type": "code",
   "execution_count": 676,
   "id": "e40f7e7f",
   "metadata": {
    "scrolled": true
   },
   "outputs": [
    {
     "data": {
      "text/html": [
       "<div>\n",
       "<style scoped>\n",
       "    .dataframe tbody tr th:only-of-type {\n",
       "        vertical-align: middle;\n",
       "    }\n",
       "\n",
       "    .dataframe tbody tr th {\n",
       "        vertical-align: top;\n",
       "    }\n",
       "\n",
       "    .dataframe thead th {\n",
       "        text-align: right;\n",
       "    }\n",
       "</style>\n",
       "<table border=\"1\" class=\"dataframe\">\n",
       "  <thead>\n",
       "    <tr style=\"text-align: right;\">\n",
       "      <th></th>\n",
       "      <th>index</th>\n",
       "      <th>AverageTemperature</th>\n",
       "      <th>Country</th>\n",
       "      <th>Year</th>\n",
       "      <th>Month</th>\n",
       "    </tr>\n",
       "  </thead>\n",
       "  <tbody>\n",
       "    <tr>\n",
       "      <th>0</th>\n",
       "      <td>2474</td>\n",
       "      <td>-5.611</td>\n",
       "      <td>Åland</td>\n",
       "      <td>1950</td>\n",
       "      <td>January</td>\n",
       "    </tr>\n",
       "    <tr>\n",
       "      <th>1</th>\n",
       "      <td>2475</td>\n",
       "      <td>-1.804</td>\n",
       "      <td>Åland</td>\n",
       "      <td>1950</td>\n",
       "      <td>February</td>\n",
       "    </tr>\n",
       "    <tr>\n",
       "      <th>2</th>\n",
       "      <td>2476</td>\n",
       "      <td>0.090</td>\n",
       "      <td>Åland</td>\n",
       "      <td>1950</td>\n",
       "      <td>March</td>\n",
       "    </tr>\n",
       "    <tr>\n",
       "      <th>3</th>\n",
       "      <td>2477</td>\n",
       "      <td>3.630</td>\n",
       "      <td>Åland</td>\n",
       "      <td>1950</td>\n",
       "      <td>April</td>\n",
       "    </tr>\n",
       "    <tr>\n",
       "      <th>4</th>\n",
       "      <td>2478</td>\n",
       "      <td>8.106</td>\n",
       "      <td>Åland</td>\n",
       "      <td>1950</td>\n",
       "      <td>May</td>\n",
       "    </tr>\n",
       "  </tbody>\n",
       "</table>\n",
       "</div>"
      ],
      "text/plain": [
       "   index  AverageTemperature Country  Year     Month\n",
       "0   2474              -5.611   Åland  1950   January\n",
       "1   2475              -1.804   Åland  1950  February\n",
       "2   2476               0.090   Åland  1950     March\n",
       "3   2477               3.630   Åland  1950     April\n",
       "4   2478               8.106   Åland  1950       May"
      ]
     },
     "execution_count": 676,
     "metadata": {},
     "output_type": "execute_result"
    }
   ],
   "source": [
    "def parseMonth(month):\n",
    "    months = {\n",
    "        1: 'January',\n",
    "        2: 'February',\n",
    "        3: 'March',\n",
    "        4: 'April',\n",
    "        5: 'May',\n",
    "        6: 'June',\n",
    "        7: 'July',\n",
    "        8: 'August',\n",
    "        9: 'September',\n",
    "        10: 'October',\n",
    "        11: 'November',\n",
    "        12: 'December'\n",
    "    }\n",
    "    \n",
    "    return months.get(month)\n",
    "\n",
    "\n",
    "#Elaborate dates in order to create year and month columns in the dataframe \n",
    "years = []\n",
    "months = []\n",
    "for index, row in climate_filtered.iterrows():\n",
    "    date = row[0].split('-')\n",
    "    years.append(int(date[0]))\n",
    "    months.append(parseMonth(int(date[1])))\n",
    "\n",
    "climate_filtered['Year'] = years\n",
    "climate_filtered['Month'] = months\n",
    "climate_filtered.drop('dt', axis=1, inplace=True)\n",
    "climate_filtered.reset_index(inplace=True)\n",
    "\n",
    "climate_filtered.head()"
   ]
  },
  {
   "cell_type": "code",
   "execution_count": 677,
   "id": "5876a2a8",
   "metadata": {
    "scrolled": true
   },
   "outputs": [
    {
     "name": "stdout",
     "output_type": "stream",
     "text": [
      "Suriname                                 1\n",
      "Bonaire, Saint Eustatius And Saba        1\n",
      "Bolivia                                  1\n",
      "Africa                                   1\n",
      "Albania                                  1\n",
      "                                      ... \n",
      "Yemen                                    1\n",
      "Uganda                                   1\n",
      "French Southern And Antarctic Lands      2\n",
      "Heard Island And Mcdonald Islands        2\n",
      "Antarctica                             764\n",
      "Name: Country, Length: 222, dtype: int64\n"
     ]
    }
   ],
   "source": [
    "print(climate_filtered[climate_filtered.AverageTemperature.isna() == True].Country.value_counts().sort_values())\n",
    "\n",
    "#Removing the associated with Antarctica since it has a lot of null values\n",
    "climate_filtered.drop(climate_filtered[climate_filtered.Country == 'Antarctica'].index, inplace=True)"
   ]
  },
  {
   "cell_type": "code",
   "execution_count": 678,
   "id": "5b79b799",
   "metadata": {},
   "outputs": [
    {
     "name": "stdout",
     "output_type": "stream",
     "text": [
      "Temperature mean:  18.996\n",
      "---------------------------------------------\n",
      "Temperature median:  23.088\n",
      "---------------------------------------------\n",
      "Temperature variance:  83.559\n",
      "---------------------------------------------\n",
      "Temperature standard deviation:  9.141\n",
      "---------------------------------------------\n",
      "Temperature mean absolute deviation:  7.778\n",
      "---------------------------------------------\n"
     ]
    }
   ],
   "source": [
    "#Caluclate the mean of temperature for each country from 1950\n",
    "countries = climate_filtered.Country.value_counts()\n",
    "means = []\n",
    "for country in countries.index:\n",
    "    means.append(climate_filtered[climate_filtered.Country == country].AverageTemperature.mean())\n",
    "        \n",
    "means_to_series = pd.Series(means)\n",
    "\n",
    "#Calculate temperature mean\n",
    "mean = means_to_series.mean()\n",
    "print('Temperature mean: ', round(mean, 3))\n",
    "print('---------------------------------------------')\n",
    "\n",
    "#Calculate temperature median\n",
    "median = means_to_series.median()\n",
    "print('Temperature median: ', round(median, 3))\n",
    "print('---------------------------------------------')\n",
    "\n",
    "#Calculate temperature variance\n",
    "variance = means_to_series.var()\n",
    "print('Temperature variance: ', round(variance, 3))\n",
    "print('---------------------------------------------')\n",
    "\n",
    "#Calculate temperature standard deviation\n",
    "standard_deviation = means_to_series.std()\n",
    "print('Temperature standard deviation: ', round(standard_deviation, 3))\n",
    "print('---------------------------------------------')\n",
    "\n",
    "#Calculate temperature mean absolute deviation\n",
    "mean_absolute_deviation = means_to_series.mad()\n",
    "print('Temperature mean absolute deviation: ', round(mean_absolute_deviation, 3))\n",
    "print('---------------------------------------------')"
   ]
  },
  {
   "cell_type": "code",
   "execution_count": 679,
   "id": "bd9da125",
   "metadata": {},
   "outputs": [],
   "source": [
    "#Replacing null values with the mean of each country\n",
    "countries_with_null = climate_filtered[climate_filtered.AverageTemperature.isna() == True].Country.value_counts()\n",
    "\n",
    "means = []\n",
    "for country in countries_with_null.index:\n",
    "    mean = climate_filtered[climate_filtered.Country == country].AverageTemperature.mean()\n",
    "    means.append((country, mean))\n",
    "    \n",
    "for country, mean in means:\n",
    "    climate_filtered.loc[(climate_filtered.Country == country) & (climate_filtered.AverageTemperature.isna() == True), \n",
    "                         'AverageTemperature'] = mean"
   ]
  },
  {
   "cell_type": "code",
   "execution_count": 680,
   "id": "a8a319c1",
   "metadata": {
    "scrolled": true
   },
   "outputs": [
    {
     "name": "stdout",
     "output_type": "stream",
     "text": [
      "null values:\n",
      "index                 0\n",
      "AverageTemperature    0\n",
      "Country               0\n",
      "Year                  0\n",
      "Month                 0\n",
      "dtype: int64\n"
     ]
    }
   ],
   "source": [
    "print('null values:')\n",
    "print(climate_filtered.isna().sum())"
   ]
  },
  {
   "cell_type": "code",
   "execution_count": 681,
   "id": "1a66f9ab",
   "metadata": {
    "scrolled": true
   },
   "outputs": [
    {
     "data": {
      "image/png": "[encoded data removed]",
      "text/plain": [
       "<Figure size 576x432 with 1 Axes>"
      ]
     },
     "metadata": {
      "needs_background": "light"
     },
     "output_type": "display_data"
    },
    {
     "data": {
      "image/png": "[encoded data removed]",
      "text/plain": [
       "<Figure size 720x288 with 1 Axes>"
      ]
     },
     "metadata": {
      "needs_background": "light"
     },
     "output_type": "display_data"
    }
   ],
   "source": [
    "years = climate_filtered.Year.value_counts(sort=False, ascending=True)\n",
    "\n",
    "#Calculate average temperature mean for each year\n",
    "temperature_means = []\n",
    "for year in years.index:\n",
    "    temperature_means.append(climate_filtered[climate_filtered.Year == year].AverageTemperature.mean())\n",
    "    \n",
    "fig, ax_temperature = plt.subplots(figsize=(8,6))\n",
    "\n",
    "ax_temperature.set_xlabel('Year')\n",
    "ax_temperature.set_ylabel('Temperature °C')\n",
    "\n",
    "p1, = ax_temperature.plot(years.index, temperature_means, linewidth=4.0,\n",
    "                          color='blue', label='Temperature °C')\n",
    "\n",
    "ax_temperature.legend(handles=[p1], loc='best')\n",
    "plt.show()\n",
    "\n",
    "\n",
    "#Calculating the mean of each month for each year\n",
    "years_range = [(1950, 1959), (1960, 1969), (1970, 1979), (1980, 1989), (1990, 1999), (2000, 2009), (2010, 2019)]\n",
    "x_axis = []\n",
    "y_axis = []\n",
    "months = climate_filtered.Month.unique()\n",
    "for year_from, year_to in years_range:\n",
    "    for month in months:\n",
    "        x_axis.append(f'{year_from} - {year_to}')\n",
    "        y_axis.append(climate_filtered[(year_from <= climate_filtered.Year) & (climate_filtered.Year <= year_to) & (climate_filtered.Month == month)].AverageTemperature.mean())\n",
    "\n",
    "fig, ax = plt.subplots(figsize=(10,4))\n",
    "ax.set_xlabel('Year')\n",
    "ax.set_ylabel('Temperature °C')\n",
    "ax.scatter(x_axis, y_axis)\n",
    "plt.show()"
   ]
  },
  {
   "cell_type": "code",
   "execution_count": 682,
   "id": "91cbe8ab",
   "metadata": {},
   "outputs": [
    {
     "name": "stdout",
     "output_type": "stream",
     "text": [
      "       country  year    co2  population           gdp\n",
      "1  Afghanistan  1950  0.084   7752117.0  9.421400e+09\n",
      "2  Afghanistan  1951  0.092   7840151.0  9.692280e+09\n",
      "3  Afghanistan  1952  0.092   7935996.0  1.001733e+10\n",
      "4  Afghanistan  1953  0.106   8039684.0  1.063052e+10\n",
      "5  Afghanistan  1954  0.106   8151316.0  1.086636e+10\n",
      "   index  AverageTemperature Country  Year     Month\n",
      "0   2474              -5.611   Åland  1950   January\n",
      "1   2475              -1.804   Åland  1950  February\n",
      "2   2476               0.090   Åland  1950     March\n",
      "3   2477               3.630   Åland  1950     April\n",
      "4   2478               8.106   Åland  1950       May\n"
     ]
    }
   ],
   "source": [
    "#Merging the two datasets\n",
    "print(filtered_df.head())\n",
    "print(climate_filtered.head())"
   ]
  },
  {
   "cell_type": "code",
   "execution_count": 683,
   "id": "b95b994e",
   "metadata": {},
   "outputs": [
    {
     "data": {
      "text/html": [
       "<div>\n",
       "<style scoped>\n",
       "    .dataframe tbody tr th:only-of-type {\n",
       "        vertical-align: middle;\n",
       "    }\n",
       "\n",
       "    .dataframe tbody tr th {\n",
       "        vertical-align: top;\n",
       "    }\n",
       "\n",
       "    .dataframe thead th {\n",
       "        text-align: right;\n",
       "    }\n",
       "</style>\n",
       "<table border=\"1\" class=\"dataframe\">\n",
       "  <thead>\n",
       "    <tr style=\"text-align: right;\">\n",
       "      <th></th>\n",
       "      <th>index</th>\n",
       "      <th>AverageTemperature</th>\n",
       "      <th>Country</th>\n",
       "      <th>Year</th>\n",
       "      <th>Month</th>\n",
       "      <th>co2</th>\n",
       "      <th>population</th>\n",
       "      <th>gdp</th>\n",
       "    </tr>\n",
       "  </thead>\n",
       "  <tbody>\n",
       "    <tr>\n",
       "      <th>765</th>\n",
       "      <td>4580</td>\n",
       "      <td>-0.048</td>\n",
       "      <td>Afghanistan</td>\n",
       "      <td>1950</td>\n",
       "      <td>January</td>\n",
       "      <td>0.084</td>\n",
       "      <td>7752117.0</td>\n",
       "      <td>9.421400e+09</td>\n",
       "    </tr>\n",
       "    <tr>\n",
       "      <th>766</th>\n",
       "      <td>4581</td>\n",
       "      <td>0.159</td>\n",
       "      <td>Afghanistan</td>\n",
       "      <td>1950</td>\n",
       "      <td>February</td>\n",
       "      <td>0.084</td>\n",
       "      <td>7752117.0</td>\n",
       "      <td>9.421400e+09</td>\n",
       "    </tr>\n",
       "    <tr>\n",
       "      <th>767</th>\n",
       "      <td>4582</td>\n",
       "      <td>7.541</td>\n",
       "      <td>Afghanistan</td>\n",
       "      <td>1950</td>\n",
       "      <td>March</td>\n",
       "      <td>0.084</td>\n",
       "      <td>7752117.0</td>\n",
       "      <td>9.421400e+09</td>\n",
       "    </tr>\n",
       "    <tr>\n",
       "      <th>768</th>\n",
       "      <td>4583</td>\n",
       "      <td>12.031</td>\n",
       "      <td>Afghanistan</td>\n",
       "      <td>1950</td>\n",
       "      <td>April</td>\n",
       "      <td>0.084</td>\n",
       "      <td>7752117.0</td>\n",
       "      <td>9.421400e+09</td>\n",
       "    </tr>\n",
       "    <tr>\n",
       "      <th>769</th>\n",
       "      <td>4584</td>\n",
       "      <td>20.487</td>\n",
       "      <td>Afghanistan</td>\n",
       "      <td>1950</td>\n",
       "      <td>May</td>\n",
       "      <td>0.084</td>\n",
       "      <td>7752117.0</td>\n",
       "      <td>9.421400e+09</td>\n",
       "    </tr>\n",
       "  </tbody>\n",
       "</table>\n",
       "</div>"
      ],
      "text/plain": [
       "     index  AverageTemperature      Country  Year     Month    co2  \\\n",
       "765   4580              -0.048  Afghanistan  1950   January  0.084   \n",
       "766   4581               0.159  Afghanistan  1950  February  0.084   \n",
       "767   4582               7.541  Afghanistan  1950     March  0.084   \n",
       "768   4583              12.031  Afghanistan  1950     April  0.084   \n",
       "769   4584              20.487  Afghanistan  1950       May  0.084   \n",
       "\n",
       "     population           gdp  \n",
       "765   7752117.0  9.421400e+09  \n",
       "766   7752117.0  9.421400e+09  \n",
       "767   7752117.0  9.421400e+09  \n",
       "768   7752117.0  9.421400e+09  \n",
       "769   7752117.0  9.421400e+09  "
      ]
     },
     "execution_count": 683,
     "metadata": {},
     "output_type": "execute_result"
    }
   ],
   "source": [
    "#Getting all the countries that are in the two datasets\n",
    "countries1 = set(filtered_df.country.unique())\n",
    "countries2 = set(climate_filtered.Country.unique())\n",
    "\n",
    "countries_in_common = list(countries1 & countries2)\n",
    "\n",
    "#Removing the countries that are not in common in order to merge the two datasets\n",
    "df1 = filtered_df[filtered_df.country.isin(countries_in_common)]\n",
    "df2 = climate_filtered[climate_filtered.Country.isin(countries_in_common)]\n",
    "\n",
    "#Since in climate_filtered dataframe there are entries associated to year until 2013, \n",
    "#the entries of filtered_df that are associated to the years greater than 2013 are removed\n",
    "#In irder to merge the two dataframes\n",
    "years1 = set(filtered_df.year.unique())\n",
    "years2 = set(climate_filtered.Year.unique())\n",
    "\n",
    "years_in_common = list(years1 & years2)\n",
    "df1 = filtered_df[filtered_df.year.isin(years_in_common)]\n",
    "\n",
    "#suppress warnings\n",
    "pd.options.mode.chained_assignment = None\n",
    "#Merging the two datasets\n",
    "for index, row in df1.iterrows():\n",
    "    df2.loc[(df2.Country == row[0]) & (df2.Year == row[1]), 'co2'] = row[2]\n",
    "    df2.loc[(df2.Country == row[0]) & (df2.Year == row[1]), 'population'] = row[3]\n",
    "    df2.loc[(df2.Country == row[0]) & (df2.Year == row[1]), 'gdp'] = row[4]\n",
    "    \n",
    "df2.head()"
   ]
  },
  {
   "cell_type": "code",
   "execution_count": null,
   "id": "d3c4389d",
   "metadata": {},
   "outputs": [],
   "source": []
  }
 ],
 "metadata": {
  "kernelspec": {
   "display_name": "Python 3 (ipykernel)",
   "language": "python",
   "name": "python3"
  },
  "language_info": {
   "codemirror_mode": {
    "name": "ipython",
    "version": 3
   },
   "file_extension": ".py",
   "mimetype": "text/x-python",
   "name": "python",
   "nbconvert_exporter": "python",
   "pygments_lexer": "ipython3",
   "version": "3.9.12"
  }
 },
 "nbformat": 4,
 "nbformat_minor": 5
}
