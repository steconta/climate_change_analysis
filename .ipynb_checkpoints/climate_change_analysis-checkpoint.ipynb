{
 "cells": [
  {
   "cell_type": "code",
   "execution_count": 64,
   "id": "f35f9b2b",
   "metadata": {},
   "outputs": [],
   "source": [
    "import pandas as pd\n",
    "import matplotlib.pyplot as plt"
   ]
  },
  {
   "cell_type": "code",
   "execution_count": 65,
   "id": "30d24993",
   "metadata": {},
   "outputs": [
    {
     "data": {
      "text/html": [
       "<div>\n",
       "<style scoped>\n",
       "    .dataframe tbody tr th:only-of-type {\n",
       "        vertical-align: middle;\n",
       "    }\n",
       "\n",
       "    .dataframe tbody tr th {\n",
       "        vertical-align: top;\n",
       "    }\n",
       "\n",
       "    .dataframe thead th {\n",
       "        text-align: right;\n",
       "    }\n",
       "</style>\n",
       "<table border=\"1\" class=\"dataframe\">\n",
       "  <thead>\n",
       "    <tr style=\"text-align: right;\">\n",
       "      <th></th>\n",
       "      <th>iso_code</th>\n",
       "      <th>country</th>\n",
       "      <th>year</th>\n",
       "      <th>co2</th>\n",
       "      <th>co2_per_capita</th>\n",
       "      <th>trade_co2</th>\n",
       "      <th>cement_co2</th>\n",
       "      <th>cement_co2_per_capita</th>\n",
       "      <th>coal_co2</th>\n",
       "      <th>coal_co2_per_capita</th>\n",
       "      <th>...</th>\n",
       "      <th>ghg_excluding_lucf_per_capita</th>\n",
       "      <th>methane</th>\n",
       "      <th>methane_per_capita</th>\n",
       "      <th>nitrous_oxide</th>\n",
       "      <th>nitrous_oxide_per_capita</th>\n",
       "      <th>population</th>\n",
       "      <th>gdp</th>\n",
       "      <th>primary_energy_consumption</th>\n",
       "      <th>energy_per_capita</th>\n",
       "      <th>energy_per_gdp</th>\n",
       "    </tr>\n",
       "  </thead>\n",
       "  <tbody>\n",
       "    <tr>\n",
       "      <th>0</th>\n",
       "      <td>AFG</td>\n",
       "      <td>Afghanistan</td>\n",
       "      <td>1949</td>\n",
       "      <td>0.015</td>\n",
       "      <td>0.002</td>\n",
       "      <td>NaN</td>\n",
       "      <td>NaN</td>\n",
       "      <td>NaN</td>\n",
       "      <td>0.015</td>\n",
       "      <td>0.002</td>\n",
       "      <td>...</td>\n",
       "      <td>NaN</td>\n",
       "      <td>NaN</td>\n",
       "      <td>NaN</td>\n",
       "      <td>NaN</td>\n",
       "      <td>NaN</td>\n",
       "      <td>7624058.0</td>\n",
       "      <td>NaN</td>\n",
       "      <td>NaN</td>\n",
       "      <td>NaN</td>\n",
       "      <td>NaN</td>\n",
       "    </tr>\n",
       "    <tr>\n",
       "      <th>1</th>\n",
       "      <td>AFG</td>\n",
       "      <td>Afghanistan</td>\n",
       "      <td>1950</td>\n",
       "      <td>0.084</td>\n",
       "      <td>0.011</td>\n",
       "      <td>NaN</td>\n",
       "      <td>NaN</td>\n",
       "      <td>NaN</td>\n",
       "      <td>0.021</td>\n",
       "      <td>0.003</td>\n",
       "      <td>...</td>\n",
       "      <td>NaN</td>\n",
       "      <td>NaN</td>\n",
       "      <td>NaN</td>\n",
       "      <td>NaN</td>\n",
       "      <td>NaN</td>\n",
       "      <td>7752117.0</td>\n",
       "      <td>9.421400e+09</td>\n",
       "      <td>NaN</td>\n",
       "      <td>NaN</td>\n",
       "      <td>NaN</td>\n",
       "    </tr>\n",
       "    <tr>\n",
       "      <th>2</th>\n",
       "      <td>AFG</td>\n",
       "      <td>Afghanistan</td>\n",
       "      <td>1951</td>\n",
       "      <td>0.092</td>\n",
       "      <td>0.012</td>\n",
       "      <td>NaN</td>\n",
       "      <td>NaN</td>\n",
       "      <td>NaN</td>\n",
       "      <td>0.026</td>\n",
       "      <td>0.003</td>\n",
       "      <td>...</td>\n",
       "      <td>NaN</td>\n",
       "      <td>NaN</td>\n",
       "      <td>NaN</td>\n",
       "      <td>NaN</td>\n",
       "      <td>NaN</td>\n",
       "      <td>7840151.0</td>\n",
       "      <td>9.692280e+09</td>\n",
       "      <td>NaN</td>\n",
       "      <td>NaN</td>\n",
       "      <td>NaN</td>\n",
       "    </tr>\n",
       "    <tr>\n",
       "      <th>3</th>\n",
       "      <td>AFG</td>\n",
       "      <td>Afghanistan</td>\n",
       "      <td>1952</td>\n",
       "      <td>0.092</td>\n",
       "      <td>0.012</td>\n",
       "      <td>NaN</td>\n",
       "      <td>NaN</td>\n",
       "      <td>NaN</td>\n",
       "      <td>0.032</td>\n",
       "      <td>0.004</td>\n",
       "      <td>...</td>\n",
       "      <td>NaN</td>\n",
       "      <td>NaN</td>\n",
       "      <td>NaN</td>\n",
       "      <td>NaN</td>\n",
       "      <td>NaN</td>\n",
       "      <td>7935996.0</td>\n",
       "      <td>1.001733e+10</td>\n",
       "      <td>NaN</td>\n",
       "      <td>NaN</td>\n",
       "      <td>NaN</td>\n",
       "    </tr>\n",
       "    <tr>\n",
       "      <th>4</th>\n",
       "      <td>AFG</td>\n",
       "      <td>Afghanistan</td>\n",
       "      <td>1953</td>\n",
       "      <td>0.106</td>\n",
       "      <td>0.013</td>\n",
       "      <td>NaN</td>\n",
       "      <td>NaN</td>\n",
       "      <td>NaN</td>\n",
       "      <td>0.038</td>\n",
       "      <td>0.005</td>\n",
       "      <td>...</td>\n",
       "      <td>NaN</td>\n",
       "      <td>NaN</td>\n",
       "      <td>NaN</td>\n",
       "      <td>NaN</td>\n",
       "      <td>NaN</td>\n",
       "      <td>8039684.0</td>\n",
       "      <td>1.063052e+10</td>\n",
       "      <td>NaN</td>\n",
       "      <td>NaN</td>\n",
       "      <td>NaN</td>\n",
       "    </tr>\n",
       "  </tbody>\n",
       "</table>\n",
       "<p>5 rows × 60 columns</p>\n",
       "</div>"
      ],
      "text/plain": [
       "  iso_code      country  year    co2  co2_per_capita  trade_co2  cement_co2  \\\n",
       "0      AFG  Afghanistan  1949  0.015           0.002        NaN         NaN   \n",
       "1      AFG  Afghanistan  1950  0.084           0.011        NaN         NaN   \n",
       "2      AFG  Afghanistan  1951  0.092           0.012        NaN         NaN   \n",
       "3      AFG  Afghanistan  1952  0.092           0.012        NaN         NaN   \n",
       "4      AFG  Afghanistan  1953  0.106           0.013        NaN         NaN   \n",
       "\n",
       "   cement_co2_per_capita  coal_co2  coal_co2_per_capita  ...  \\\n",
       "0                    NaN     0.015                0.002  ...   \n",
       "1                    NaN     0.021                0.003  ...   \n",
       "2                    NaN     0.026                0.003  ...   \n",
       "3                    NaN     0.032                0.004  ...   \n",
       "4                    NaN     0.038                0.005  ...   \n",
       "\n",
       "   ghg_excluding_lucf_per_capita  methane  methane_per_capita  nitrous_oxide  \\\n",
       "0                            NaN      NaN                 NaN            NaN   \n",
       "1                            NaN      NaN                 NaN            NaN   \n",
       "2                            NaN      NaN                 NaN            NaN   \n",
       "3                            NaN      NaN                 NaN            NaN   \n",
       "4                            NaN      NaN                 NaN            NaN   \n",
       "\n",
       "   nitrous_oxide_per_capita  population           gdp  \\\n",
       "0                       NaN   7624058.0           NaN   \n",
       "1                       NaN   7752117.0  9.421400e+09   \n",
       "2                       NaN   7840151.0  9.692280e+09   \n",
       "3                       NaN   7935996.0  1.001733e+10   \n",
       "4                       NaN   8039684.0  1.063052e+10   \n",
       "\n",
       "   primary_energy_consumption  energy_per_capita  energy_per_gdp  \n",
       "0                         NaN                NaN             NaN  \n",
       "1                         NaN                NaN             NaN  \n",
       "2                         NaN                NaN             NaN  \n",
       "3                         NaN                NaN             NaN  \n",
       "4                         NaN                NaN             NaN  \n",
       "\n",
       "[5 rows x 60 columns]"
      ]
     },
     "execution_count": 65,
     "metadata": {},
     "output_type": "execute_result"
    }
   ],
   "source": [
    "df = pd.read_csv('data/owid_co2_data.csv')\n",
    "df.head()"
   ]
  },
  {
   "cell_type": "code",
   "execution_count": 66,
   "id": "0fd3c5eb",
   "metadata": {},
   "outputs": [
    {
     "data": {
      "text/html": [
       "<div>\n",
       "<style scoped>\n",
       "    .dataframe tbody tr th:only-of-type {\n",
       "        vertical-align: middle;\n",
       "    }\n",
       "\n",
       "    .dataframe tbody tr th {\n",
       "        vertical-align: top;\n",
       "    }\n",
       "\n",
       "    .dataframe thead th {\n",
       "        text-align: right;\n",
       "    }\n",
       "</style>\n",
       "<table border=\"1\" class=\"dataframe\">\n",
       "  <thead>\n",
       "    <tr style=\"text-align: right;\">\n",
       "      <th></th>\n",
       "      <th>iso_code</th>\n",
       "      <th>country</th>\n",
       "      <th>year</th>\n",
       "      <th>co2</th>\n",
       "      <th>population</th>\n",
       "    </tr>\n",
       "  </thead>\n",
       "  <tbody>\n",
       "    <tr>\n",
       "      <th>0</th>\n",
       "      <td>AFG</td>\n",
       "      <td>Afghanistan</td>\n",
       "      <td>1949</td>\n",
       "      <td>0.015</td>\n",
       "      <td>7624058.0</td>\n",
       "    </tr>\n",
       "    <tr>\n",
       "      <th>1</th>\n",
       "      <td>AFG</td>\n",
       "      <td>Afghanistan</td>\n",
       "      <td>1950</td>\n",
       "      <td>0.084</td>\n",
       "      <td>7752117.0</td>\n",
       "    </tr>\n",
       "    <tr>\n",
       "      <th>2</th>\n",
       "      <td>AFG</td>\n",
       "      <td>Afghanistan</td>\n",
       "      <td>1951</td>\n",
       "      <td>0.092</td>\n",
       "      <td>7840151.0</td>\n",
       "    </tr>\n",
       "    <tr>\n",
       "      <th>3</th>\n",
       "      <td>AFG</td>\n",
       "      <td>Afghanistan</td>\n",
       "      <td>1952</td>\n",
       "      <td>0.092</td>\n",
       "      <td>7935996.0</td>\n",
       "    </tr>\n",
       "    <tr>\n",
       "      <th>4</th>\n",
       "      <td>AFG</td>\n",
       "      <td>Afghanistan</td>\n",
       "      <td>1953</td>\n",
       "      <td>0.106</td>\n",
       "      <td>8039684.0</td>\n",
       "    </tr>\n",
       "  </tbody>\n",
       "</table>\n",
       "</div>"
      ],
      "text/plain": [
       "  iso_code      country  year    co2  population\n",
       "0      AFG  Afghanistan  1949  0.015   7624058.0\n",
       "1      AFG  Afghanistan  1950  0.084   7752117.0\n",
       "2      AFG  Afghanistan  1951  0.092   7840151.0\n",
       "3      AFG  Afghanistan  1952  0.092   7935996.0\n",
       "4      AFG  Afghanistan  1953  0.106   8039684.0"
      ]
     },
     "execution_count": 66,
     "metadata": {},
     "output_type": "execute_result"
    }
   ],
   "source": [
    "df = df.filter(['iso_code','country','year', 'co2', 'population'], axis=1)\n",
    "df.head()"
   ]
  },
  {
   "cell_type": "code",
   "execution_count": 67,
   "id": "ac4aed9d",
   "metadata": {},
   "outputs": [],
   "source": [
    "#Removing null rows that contains null values in co2 column\n",
    "df = df[df.co2.notna()]"
   ]
  },
  {
   "cell_type": "code",
   "execution_count": 68,
   "id": "ccaea767",
   "metadata": {},
   "outputs": [
    {
     "name": "stdout",
     "output_type": "stream",
     "text": [
      "OWID_WRL    271\n",
      "GBR         271\n",
      "CAN         236\n",
      "DEU         229\n",
      "POL         221\n",
      "           ... \n",
      "ATA          21\n",
      "TLS          19\n",
      "CXR          14\n",
      "OWID_KOS     13\n",
      "PRI           1\n",
      "Name: iso_code, Length: 219, dtype: int64\n"
     ]
    }
   ],
   "source": [
    "x = df.iso_code.value_counts()\n",
    "print(x)"
   ]
  },
  {
   "cell_type": "code",
   "execution_count": 71,
   "id": "29d221db",
   "metadata": {},
   "outputs": [],
   "source": [
    "#Removing rows with year less than 1950\n",
    "filtered_df = df.drop(df[df.year < 1950].index)\n",
    "\n",
    "#Since this study consists of the analysis of climate change from 1950\n",
    "#The countries that appear less than 70 times are not considered because the lack of data\n",
    "freq_table = filtered_df.iso_code.value_counts()\n",
    "\n",
    "countries_to_delete = []\n",
    "for iso_code, value in freq_table.items():\n",
    "    if value < 70:\n",
    "        countries_to_delete.append(iso_code)\n",
    "\n",
    "for iso_code in countries_to_delete:\n",
    "    filtered_df = filtered_df.drop(filtered_df[filtered_df.iso_code == iso_code].index)"
   ]
  },
  {
   "cell_type": "code",
   "execution_count": 72,
   "id": "c50f04e7",
   "metadata": {},
   "outputs": [
    {
     "name": "stdout",
     "output_type": "stream",
     "text": [
      "co2 mean:  519.314\n",
      "---------------------------------------------\n",
      "co2 median:  10.876\n",
      "---------------------------------------------\n",
      "co2 trimmed mean: 61.47 with limits: (0.231, 632.537)\n",
      "---------------------------------------------\n",
      "co2 variance:  5001093.539\n",
      "---------------------------------------------\n",
      "co2 standard deviation:  2236.312\n",
      "---------------------------------------------\n",
      "co2 mean absolute deviation:  837.739\n",
      "---------------------------------------------\n"
     ]
    }
   ],
   "source": [
    "import numpy as np\n",
    "from scipy import stats\n",
    "\n",
    "#Calculate co2 mean\n",
    "mean = filtered_df.co2.mean()\n",
    "print('co2 mean: ', round(mean, 3))\n",
    "print('---------------------------------------------')\n",
    "\n",
    "#Calculate co2 median\n",
    "median = filtered_df.co2.median()\n",
    "print('co2 median: ', round(median, 3))\n",
    "print('---------------------------------------------')\n",
    "\n",
    "#Calculate co2 trimmed mean\n",
    "co2_sorted = filtered_df.co2.sort_values()\n",
    "co2_sorted = co2_sorted.reset_index(drop=True)\n",
    "limit = 0.1\n",
    "limits = (co2_sorted[round(filtered_df.co2.shape[0]*limit)], \n",
    "          co2_sorted[round(filtered_df.co2.shape[0]*(1-limit))])\n",
    "trimmed_mean = stats.tmean(co2_sorted, limits=limits)\n",
    "print(\"co2 trimmed mean:\", round(trimmed_mean,2), \"with limits:\", limits)\n",
    "print('---------------------------------------------')\n",
    "\n",
    "#Calculate co2 variance\n",
    "variance = filtered_df.co2.var()\n",
    "print('co2 variance: ', round(variance, 3))\n",
    "print('---------------------------------------------')\n",
    "\n",
    "#Calculate co2 variance\n",
    "standard_deviation = filtered_df.co2.std()\n",
    "print('co2 standard deviation: ', round(standard_deviation, 3))\n",
    "print('---------------------------------------------')\n",
    "\n",
    "#Calculate co2 variance\n",
    "mean_absolute_deviation = filtered_df.co2.mad()\n",
    "print('co2 mean absolute deviation: ', round(mean_absolute_deviation, 3))\n",
    "print('---------------------------------------------')"
   ]
  },
  {
   "cell_type": "code",
   "execution_count": 73,
   "id": "cecf3c15",
   "metadata": {},
   "outputs": [
    {
     "data": {
      "text/plain": [
       "{'whiskers': [<matplotlib.lines.Line2D at 0x7fc00721bfd0>,\n",
       "  <matplotlib.lines.Line2D at 0x7fc0072282e0>],\n",
       " 'caps': [<matplotlib.lines.Line2D at 0x7fc0072285b0>,\n",
       "  <matplotlib.lines.Line2D at 0x7fc007228880>],\n",
       " 'boxes': [<matplotlib.lines.Line2D at 0x7fc00721bd00>],\n",
       " 'medians': [<matplotlib.lines.Line2D at 0x7fc007228ac0>],\n",
       " 'fliers': [<matplotlib.lines.Line2D at 0x7fc007228d90>],\n",
       " 'means': []}"
      ]
     },
     "execution_count": 73,
     "metadata": {},
     "output_type": "execute_result"
    },
    {
     "data": {
      "image/png": "[encoded data removed]",
      "text/plain": [
       "<Figure size 720x720 with 1 Axes>"
      ]
     },
     "metadata": {
      "needs_background": "light"
     },
     "output_type": "display_data"
    }
   ],
   "source": [
    "#Caluclate the mean of co2 for each country from 1950 to 2020\n",
    "countries = filtered_df.country.value_counts(sort=False, ascending=True)\n",
    "means = []\n",
    "for country in countries.index:\n",
    "    means.append(filtered_df[filtered_df.country == country].co2.mean())\n",
    "\n",
    "#Romeoving NaN\n",
    "import math\n",
    "for index, mean in enumerate(means):\n",
    "    if math.isnan(mean):\n",
    "        means.remove(mean)\n",
    "\n",
    "fig, ax = plt.subplots(figsize=(10, 10))\n",
    "ax.boxplot(means)"
   ]
  },
  {
   "cell_type": "code",
   "execution_count": 53,
   "id": "4fa3f46e",
   "metadata": {},
   "outputs": [
    {
     "name": "stdout",
     "output_type": "stream",
     "text": [
      "54\n"
     ]
    }
   ],
   "source": []
  },
  {
   "cell_type": "code",
   "execution_count": 74,
   "id": "3735ad79",
   "metadata": {},
   "outputs": [
    {
     "data": {
      "text/plain": [
       "[<matplotlib.lines.Line2D at 0x7fbfd8dfca00>]"
      ]
     },
     "execution_count": 74,
     "metadata": {},
     "output_type": "execute_result"
    },
    {
     "data": {
      "image/png": "[encoded data removed]",
      "text/plain": [
       "<Figure size 576x432 with 2 Axes>"
      ]
     },
     "metadata": {
      "needs_background": "light"
     },
     "output_type": "display_data"
    }
   ],
   "source": [
    "years = filtered_df.year.value_counts(sort=False, ascending=True)\n",
    "\n",
    "#Calculate co2 mean for each year\n",
    "co2_means = []\n",
    "for year in years.index:\n",
    "    co2_means.append(filtered_df[filtered_df.year == year].co2.mean())\n",
    "\n",
    "#Calculate population mean for each year\n",
    "population_means = []\n",
    "for year in years.index:\n",
    "    population_means.append(filtered_df[filtered_df.year == year].population.mean())\n",
    "\n",
    "fig, ax_left = plt.subplots(figsize=(8,6))\n",
    "ax_right = ax_left.twinx()\n",
    "    \n",
    "ax_left.set(ylabel='co2 in kg')\n",
    "ax_left.set(xlabel='year')\n",
    "ax_left.plot(years.index, co2_means, linewidth=4.0, \n",
    "             color='blue', label='co2 in kg')\n",
    "ax_right.set(ylabel='population')\n",
    "ax_right.grid(None)\n",
    "ax_right.plot(years.index, population_means, linewidth=2.0, \n",
    "         color='red', label='ciao')\n"
   ]
  },
  {
   "cell_type": "code",
   "execution_count": null,
   "id": "79c5bd45",
   "metadata": {},
   "outputs": [],
   "source": [
    "#TODO Fare correlazione tra popolazione e co2 \n",
    "# e tra crescita econimica e co2"
   ]
  }
 ],
 "metadata": {
  "kernelspec": {
   "display_name": "Python 3 (ipykernel)",
   "language": "python",
   "name": "python3"
  },
  "language_info": {
   "codemirror_mode": {
    "name": "ipython",
    "version": 3
   },
   "file_extension": ".py",
   "mimetype": "text/x-python",
   "name": "python",
   "nbconvert_exporter": "python",
   "pygments_lexer": "ipython3",
   "version": "3.9.12"
  }
 },
 "nbformat": 4,
 "nbformat_minor": 5
}
