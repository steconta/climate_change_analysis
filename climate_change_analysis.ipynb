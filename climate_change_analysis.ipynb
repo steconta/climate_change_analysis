{
 "cells": [
  {
   "cell_type": "code",
   "execution_count": 107,
   "id": "f35f9b2b",
   "metadata": {},
   "outputs": [],
   "source": [
    "import pandas as pd\n",
    "import matplotlib.pyplot as plt"
   ]
  },
  {
   "cell_type": "code",
   "execution_count": 108,
   "id": "30d24993",
   "metadata": {},
   "outputs": [
    {
     "data": {
      "text/html": [
       "<div>\n",
       "<style scoped>\n",
       "    .dataframe tbody tr th:only-of-type {\n",
       "        vertical-align: middle;\n",
       "    }\n",
       "\n",
       "    .dataframe tbody tr th {\n",
       "        vertical-align: top;\n",
       "    }\n",
       "\n",
       "    .dataframe thead th {\n",
       "        text-align: right;\n",
       "    }\n",
       "</style>\n",
       "<table border=\"1\" class=\"dataframe\">\n",
       "  <thead>\n",
       "    <tr style=\"text-align: right;\">\n",
       "      <th></th>\n",
       "      <th>iso_code</th>\n",
       "      <th>country</th>\n",
       "      <th>year</th>\n",
       "      <th>co2</th>\n",
       "      <th>co2_per_capita</th>\n",
       "      <th>trade_co2</th>\n",
       "      <th>cement_co2</th>\n",
       "      <th>cement_co2_per_capita</th>\n",
       "      <th>coal_co2</th>\n",
       "      <th>coal_co2_per_capita</th>\n",
       "      <th>...</th>\n",
       "      <th>ghg_excluding_lucf_per_capita</th>\n",
       "      <th>methane</th>\n",
       "      <th>methane_per_capita</th>\n",
       "      <th>nitrous_oxide</th>\n",
       "      <th>nitrous_oxide_per_capita</th>\n",
       "      <th>population</th>\n",
       "      <th>gdp</th>\n",
       "      <th>primary_energy_consumption</th>\n",
       "      <th>energy_per_capita</th>\n",
       "      <th>energy_per_gdp</th>\n",
       "    </tr>\n",
       "  </thead>\n",
       "  <tbody>\n",
       "    <tr>\n",
       "      <th>0</th>\n",
       "      <td>AFG</td>\n",
       "      <td>Afghanistan</td>\n",
       "      <td>1949</td>\n",
       "      <td>0.015</td>\n",
       "      <td>0.002</td>\n",
       "      <td>NaN</td>\n",
       "      <td>NaN</td>\n",
       "      <td>NaN</td>\n",
       "      <td>0.015</td>\n",
       "      <td>0.002</td>\n",
       "      <td>...</td>\n",
       "      <td>NaN</td>\n",
       "      <td>NaN</td>\n",
       "      <td>NaN</td>\n",
       "      <td>NaN</td>\n",
       "      <td>NaN</td>\n",
       "      <td>7624058.0</td>\n",
       "      <td>NaN</td>\n",
       "      <td>NaN</td>\n",
       "      <td>NaN</td>\n",
       "      <td>NaN</td>\n",
       "    </tr>\n",
       "    <tr>\n",
       "      <th>1</th>\n",
       "      <td>AFG</td>\n",
       "      <td>Afghanistan</td>\n",
       "      <td>1950</td>\n",
       "      <td>0.084</td>\n",
       "      <td>0.011</td>\n",
       "      <td>NaN</td>\n",
       "      <td>NaN</td>\n",
       "      <td>NaN</td>\n",
       "      <td>0.021</td>\n",
       "      <td>0.003</td>\n",
       "      <td>...</td>\n",
       "      <td>NaN</td>\n",
       "      <td>NaN</td>\n",
       "      <td>NaN</td>\n",
       "      <td>NaN</td>\n",
       "      <td>NaN</td>\n",
       "      <td>7752117.0</td>\n",
       "      <td>9.421400e+09</td>\n",
       "      <td>NaN</td>\n",
       "      <td>NaN</td>\n",
       "      <td>NaN</td>\n",
       "    </tr>\n",
       "    <tr>\n",
       "      <th>2</th>\n",
       "      <td>AFG</td>\n",
       "      <td>Afghanistan</td>\n",
       "      <td>1951</td>\n",
       "      <td>0.092</td>\n",
       "      <td>0.012</td>\n",
       "      <td>NaN</td>\n",
       "      <td>NaN</td>\n",
       "      <td>NaN</td>\n",
       "      <td>0.026</td>\n",
       "      <td>0.003</td>\n",
       "      <td>...</td>\n",
       "      <td>NaN</td>\n",
       "      <td>NaN</td>\n",
       "      <td>NaN</td>\n",
       "      <td>NaN</td>\n",
       "      <td>NaN</td>\n",
       "      <td>7840151.0</td>\n",
       "      <td>9.692280e+09</td>\n",
       "      <td>NaN</td>\n",
       "      <td>NaN</td>\n",
       "      <td>NaN</td>\n",
       "    </tr>\n",
       "    <tr>\n",
       "      <th>3</th>\n",
       "      <td>AFG</td>\n",
       "      <td>Afghanistan</td>\n",
       "      <td>1952</td>\n",
       "      <td>0.092</td>\n",
       "      <td>0.012</td>\n",
       "      <td>NaN</td>\n",
       "      <td>NaN</td>\n",
       "      <td>NaN</td>\n",
       "      <td>0.032</td>\n",
       "      <td>0.004</td>\n",
       "      <td>...</td>\n",
       "      <td>NaN</td>\n",
       "      <td>NaN</td>\n",
       "      <td>NaN</td>\n",
       "      <td>NaN</td>\n",
       "      <td>NaN</td>\n",
       "      <td>7935996.0</td>\n",
       "      <td>1.001733e+10</td>\n",
       "      <td>NaN</td>\n",
       "      <td>NaN</td>\n",
       "      <td>NaN</td>\n",
       "    </tr>\n",
       "    <tr>\n",
       "      <th>4</th>\n",
       "      <td>AFG</td>\n",
       "      <td>Afghanistan</td>\n",
       "      <td>1953</td>\n",
       "      <td>0.106</td>\n",
       "      <td>0.013</td>\n",
       "      <td>NaN</td>\n",
       "      <td>NaN</td>\n",
       "      <td>NaN</td>\n",
       "      <td>0.038</td>\n",
       "      <td>0.005</td>\n",
       "      <td>...</td>\n",
       "      <td>NaN</td>\n",
       "      <td>NaN</td>\n",
       "      <td>NaN</td>\n",
       "      <td>NaN</td>\n",
       "      <td>NaN</td>\n",
       "      <td>8039684.0</td>\n",
       "      <td>1.063052e+10</td>\n",
       "      <td>NaN</td>\n",
       "      <td>NaN</td>\n",
       "      <td>NaN</td>\n",
       "    </tr>\n",
       "  </tbody>\n",
       "</table>\n",
       "<p>5 rows × 60 columns</p>\n",
       "</div>"
      ],
      "text/plain": [
       "  iso_code      country  year    co2  co2_per_capita  trade_co2  cement_co2  \\\n",
       "0      AFG  Afghanistan  1949  0.015           0.002        NaN         NaN   \n",
       "1      AFG  Afghanistan  1950  0.084           0.011        NaN         NaN   \n",
       "2      AFG  Afghanistan  1951  0.092           0.012        NaN         NaN   \n",
       "3      AFG  Afghanistan  1952  0.092           0.012        NaN         NaN   \n",
       "4      AFG  Afghanistan  1953  0.106           0.013        NaN         NaN   \n",
       "\n",
       "   cement_co2_per_capita  coal_co2  coal_co2_per_capita  ...  \\\n",
       "0                    NaN     0.015                0.002  ...   \n",
       "1                    NaN     0.021                0.003  ...   \n",
       "2                    NaN     0.026                0.003  ...   \n",
       "3                    NaN     0.032                0.004  ...   \n",
       "4                    NaN     0.038                0.005  ...   \n",
       "\n",
       "   ghg_excluding_lucf_per_capita  methane  methane_per_capita  nitrous_oxide  \\\n",
       "0                            NaN      NaN                 NaN            NaN   \n",
       "1                            NaN      NaN                 NaN            NaN   \n",
       "2                            NaN      NaN                 NaN            NaN   \n",
       "3                            NaN      NaN                 NaN            NaN   \n",
       "4                            NaN      NaN                 NaN            NaN   \n",
       "\n",
       "   nitrous_oxide_per_capita  population           gdp  \\\n",
       "0                       NaN   7624058.0           NaN   \n",
       "1                       NaN   7752117.0  9.421400e+09   \n",
       "2                       NaN   7840151.0  9.692280e+09   \n",
       "3                       NaN   7935996.0  1.001733e+10   \n",
       "4                       NaN   8039684.0  1.063052e+10   \n",
       "\n",
       "   primary_energy_consumption  energy_per_capita  energy_per_gdp  \n",
       "0                         NaN                NaN             NaN  \n",
       "1                         NaN                NaN             NaN  \n",
       "2                         NaN                NaN             NaN  \n",
       "3                         NaN                NaN             NaN  \n",
       "4                         NaN                NaN             NaN  \n",
       "\n",
       "[5 rows x 60 columns]"
      ]
     },
     "execution_count": 108,
     "metadata": {},
     "output_type": "execute_result"
    }
   ],
   "source": [
    "df = pd.read_csv('data/owid_co2_data.csv')\n",
    "df.head()"
   ]
  },
  {
   "cell_type": "code",
   "execution_count": 109,
   "id": "ccaea767",
   "metadata": {},
   "outputs": [
    {
     "name": "stdout",
     "output_type": "stream",
     "text": [
      "OWID_WRL    271\n",
      "GBR         271\n",
      "CAN         236\n",
      "DEU         229\n",
      "POL         221\n",
      "           ... \n",
      "LSO          31\n",
      "AND          31\n",
      "LIE          31\n",
      "PSE          31\n",
      "OWID_KOS     13\n",
      "Name: iso_code, Length: 219, dtype: int64\n"
     ]
    }
   ],
   "source": [
    "x = df.iso_code.value_counts()\n",
    "print(x)"
   ]
  },
  {
   "cell_type": "code",
   "execution_count": 110,
   "id": "1faacd9c",
   "metadata": {},
   "outputs": [
    {
     "name": "stdout",
     "output_type": "stream",
     "text": [
      "2018    248\n",
      "2017    248\n",
      "2016    248\n",
      "2015    248\n",
      "2014    248\n",
      "       ... \n",
      "1760      6\n",
      "1761      6\n",
      "1762      6\n",
      "1764      6\n",
      "1784      6\n",
      "Name: year, Length: 271, dtype: int64\n"
     ]
    }
   ],
   "source": [
    "x = df.year.value_counts()\n",
    "print(x)"
   ]
  },
  {
   "cell_type": "code",
   "execution_count": 111,
   "id": "29d221db",
   "metadata": {},
   "outputs": [],
   "source": [
    "#Removing rows with year less than 1950\n",
    "filtered_df = df.drop(df[df.year < 1950].index)"
   ]
  },
  {
   "cell_type": "code",
   "execution_count": 195,
   "id": "8fa842f0",
   "metadata": {},
   "outputs": [
    {
     "data": {
      "text/plain": [
       "[<matplotlib.lines.Line2D at 0x7f9291353a00>]"
      ]
     },
     "execution_count": 195,
     "metadata": {},
     "output_type": "execute_result"
    },
    {
     "data": {
      "image/png": "[encoded data removed]",
      "text/plain": [
       "<Figure size 576x432 with 2 Axes>"
      ]
     },
     "metadata": {
      "needs_background": "light"
     },
     "output_type": "display_data"
    }
   ],
   "source": [
    "years = filtered_df.year.value_counts(sort=False, ascending=True)\n",
    "\n",
    "#Calculate co2 mean for each year\n",
    "co2_means = []\n",
    "for year in years.index:\n",
    "    co2_means.append(filtered_df[filtered_df.year == year].co2.mean())\n",
    "\n",
    "#Calculate population mean for each year\n",
    "population_means = []\n",
    "for year in years.index:\n",
    "    population_means.append(filtered_df[filtered_df.year == year].population.mean())\n",
    "\n",
    "fig, ax_left = plt.subplots(figsize=(8,6))\n",
    "ax_right = ax_left.twinx()\n",
    "    \n",
    "ax_left.set(ylabel='co2 in kg')\n",
    "ax_left.set(xlabel='year')\n",
    "ax_left.plot(years.index, co2_means, linewidth=4.0, \n",
    "             color='blue', label='co2 in kg')\n",
    "ax_right.set(ylabel='population')\n",
    "ax_right.grid(None)\n",
    "ax_right.plot(years.index, population_means, linewidth=2.0, \n",
    "         color='red', label='ciao')\n"
   ]
  },
  {
   "cell_type": "code",
   "execution_count": 172,
   "id": "c50f04e7",
   "metadata": {},
   "outputs": [
    {
     "name": "stdout",
     "output_type": "stream",
     "text": [
      "co2 mean:  435.38\n",
      "---------------------------------------------\n",
      "co2 median:  5.946\n",
      "---------------------------------------------\n",
      "co2 trimmed mean: nan with limits: (0.114, 1090.02)\n",
      "---------------------------------------------\n",
      "co2 variance:  4212458.145\n",
      "---------------------------------------------\n",
      "co2 standard deviation:  2052.427\n",
      "---------------------------------------------\n",
      "co2 mean absolute deviation:  716.297\n",
      "---------------------------------------------\n"
     ]
    }
   ],
   "source": [
    "import numpy as np\n",
    "from scipy import stats\n",
    "\n",
    "#Calculate co2 mean\n",
    "mean = filtered_df.co2.mean()\n",
    "print('co2 mean: ', round(mean, 3))\n",
    "print('---------------------------------------------')\n",
    "\n",
    "#Calculate co2 median\n",
    "median = filtered_df.co2.median()\n",
    "print('co2 median: ', round(median, 3))\n",
    "print('---------------------------------------------')\n",
    "\n",
    "#TODO CONTROLLARE PERCHé NAN\n",
    "#Calculate co2 trimmed mean\n",
    "co2_sorted = filtered_df.co2.sort_values()\n",
    "co2_sorted = co2_sorted.reset_index(drop=True)\n",
    "limit = 0.1\n",
    "limits = (co2_sorted[round(filtered_df.co2.shape[0]*limit)], \n",
    "          co2_sorted[round(filtered_df.co2.shape[0]*(1-limit))])\n",
    "trimmed_mean = stats.tmean(co2_sorted, limits=limits)\n",
    "print(\"co2 trimmed mean:\", round(trimmed_mean,2), \"with limits:\", limits)\n",
    "print('---------------------------------------------')\n",
    "\n",
    "#Calculate co2 variance\n",
    "variance = filtered_df.co2.var()\n",
    "print('co2 variance: ', round(variance, 3))\n",
    "print('---------------------------------------------')\n",
    "\n",
    "#Calculate co2 variance\n",
    "standard_deviation = filtered_df.co2.std()\n",
    "print('co2 standard deviation: ', round(standard_deviation, 3))\n",
    "print('---------------------------------------------')\n",
    "\n",
    "#Calculate co2 variance\n",
    "mean_absolute_deviation = filtered_df.co2.mad()\n",
    "print('co2 mean absolute deviation: ', round(mean_absolute_deviation, 3))\n",
    "print('---------------------------------------------')"
   ]
  },
  {
   "cell_type": "code",
   "execution_count": 162,
   "id": "cecf3c15",
   "metadata": {},
   "outputs": [
    {
     "name": "stderr",
     "output_type": "stream",
     "text": [
      "/Users/stefano/opt/anaconda3/envs/climate_change_analysis/lib/python3.9/site-packages/seaborn/distributions.py:2619: FutureWarning: `distplot` is a deprecated function and will be removed in a future version. Please adapt your code to use either `displot` (a figure-level function with similar flexibility) or `histplot` (an axes-level function for histograms).\n",
      "  warnings.warn(msg, FutureWarning)\n"
     ]
    },
    {
     "data": {
      "image/png": "[encoded data removed]",
      "text/plain": [
       "<Figure size 576x396 with 1 Axes>"
      ]
     },
     "metadata": {
      "needs_background": "light"
     },
     "output_type": "display_data"
    }
   ],
   "source": [
    "#Caluclate the mean of co2 for each country from 1950 to 2020\n",
    "countries = filtered_df.country.value_counts(sort=False, ascending=True)\n",
    "means = []\n",
    "for country in countries.index:\n",
    "    means.append(filtered_df[filtered_df.country == country].co2.mean())\n",
    "\n",
    "#Romeoving NaN\n",
    "import math\n",
    "for index, mean in enumerate(means):\n",
    "    if math.isnan(mean):\n",
    "        means.remove(mean)"
   ]
  },
  {
   "cell_type": "code",
   "execution_count": null,
   "id": "79c5bd45",
   "metadata": {},
   "outputs": [],
   "source": [
    "#TODO Fare correlazione tra popolazione e co2 \n",
    "# e tra crescita econimica e co2"
   ]
  }
 ],
 "metadata": {
  "kernelspec": {
   "display_name": "Python 3 (ipykernel)",
   "language": "python",
   "name": "python3"
  },
  "language_info": {
   "codemirror_mode": {
    "name": "ipython",
    "version": 3
   },
   "file_extension": ".py",
   "mimetype": "text/x-python",
   "name": "python",
   "nbconvert_exporter": "python",
   "pygments_lexer": "ipython3",
   "version": "3.9.12"
  }
 },
 "nbformat": 4,
 "nbformat_minor": 5
}
